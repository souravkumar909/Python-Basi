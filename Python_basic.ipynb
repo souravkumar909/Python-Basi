{
  "nbformat": 4,
  "nbformat_minor": 0,
  "metadata": {
    "colab": {
      "provenance": []
    },
    "kernelspec": {
      "name": "python3",
      "display_name": "Python 3"
    },
    "language_info": {
      "name": "python"
    }
  },
  "cells": [
    {
      "cell_type": "markdown",
      "source": [
        "# Python Basic\n",
        "\n",
        "\n"
      ],
      "metadata": {
        "id": "7Chyu9EUJY-G"
      }
    },
    {
      "cell_type": "markdown",
      "source": [
        "1. What is Python, and why is it popular?\n",
        "  - Python is a general-purpose programming language that's popular because it's easy to learn, versatile, and efficient. Python has many libraries and frameworks that can save time and effort during development.\n",
        "\n",
        "2. What is an interpreter in Python?\n",
        "  - An interpreter in Python is a program that directly executes Python code line by line, translating it into machine code without requiring prior compilation.\n",
        "\n",
        "3. What are pre-defined keywords in Python?\n",
        "  - Pre-defined keywords are reserved words in Python that have a specific meaning and cannot be used as variable names. Examples include if, else, for, while, def, and return.\n",
        "\n",
        "4. Can keywords be used as variable names?\n",
        "   - No, keywords cannot be used as variable names as they have predefined meanings in Python.\n",
        "\n",
        "5. What is mutability in Python?\n",
        "  - Mutability refers to the ability of an object to be modified after it is created. Mutable objects, like lists and dictionaries, can be changed, while immutable objects, like strings and tuples, cannot.\n",
        "\n",
        "6. Why are lists mutable, but tuples are immutable?\n",
        "  - Lists are mutable to allow flexibility in data storage and manipulation, while tuples are immutable to provide a constant, unchangeable collection of items, which ensures stability and performance in certain scenarios.\n",
        "\n",
        "7. What is the difference between == and is operators in Python?\n",
        "\n",
        "  - == checks for value equality (whether the values of two objects are the same).\n",
        "\n",
        "  - is checks for identity equality (whether two objects refer to the same memory location).\n",
        "\n",
        "8. What are logical operators in Python?\n",
        "  - Logical operators are used to combine conditional statements:\n",
        "\n",
        "     and: Returns True if both conditions are true.\n",
        "\n",
        "     or: Returns True if at least one condition is true.\n",
        "\n",
        "     not: Reverses the result of a condition.\n",
        "\n",
        "9. What is type casting in Python?\n",
        "  - Type casting is converting one data type to another. For example, converting a string to an integer using int() or a list to a tuple using tuple().\n",
        "\n",
        "10. What is the difference between implicit and explicit type casting?\n",
        "\n",
        "  - Implicit casting: Performed automatically by Python (e.g., int to float).\n",
        "\n",
        "  - Explicit casting: Performed manually using functions like int(), str(), or float().\n",
        "\n",
        "11. What is the purpose of conditional statements in Python?\n",
        "   - Conditional statements are used to execute code based on specific conditions. Examples include if, elif, and else.\n",
        "\n",
        "12. How does the elif statement work?\n",
        "   - The elif statement is used to check multiple conditions after an if statement. If the initial if condition is false, Python evaluates the elif conditions in sequence.\n",
        "\n",
        "\n",
        "13. What is the difference between for and while loops?\n",
        "\n",
        "   - for: Used for iterating over a sequence (e.g., list, range).\n",
        "\n",
        "   - while: Executes as long as a specified condition is true.\n",
        "\n",
        "\n",
        "\n",
        "14. Describe a scenario where a while loop is more suitable than a for loop.\n",
        "   - A while loop is better when the number of iterations is not known beforehand, such as waiting for user input or monitoring a condition.   \n"
      ],
      "metadata": {
        "id": "bfGQZtSZKEI2"
      }
    },
    {
      "cell_type": "code",
      "source": [],
      "metadata": {
        "id": "K1zAhctKKCRh"
      },
      "execution_count": null,
      "outputs": []
    },
    {
      "cell_type": "code",
      "execution_count": null,
      "metadata": {
        "id": "74fIQ-nvJH55"
      },
      "outputs": [],
      "source": []
    }
  ]
}