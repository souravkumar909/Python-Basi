{
  "nbformat": 4,
  "nbformat_minor": 0,
  "metadata": {
    "colab": {
      "provenance": []
    },
    "kernelspec": {
      "name": "python3",
      "display_name": "Python 3"
    },
    "language_info": {
      "name": "python"
    }
  },
  "cells": [
    {
      "cell_type": "markdown",
      "source": [
        "# Python Basic\n",
        "\n",
        "\n"
      ],
      "metadata": {
        "id": "7Chyu9EUJY-G"
      }
    },
    {
      "cell_type": "markdown",
      "source": [
        "1. What is Python, and why is it popular?\n",
        "  - Python is a general-purpose programming language that's popular because it's easy to learn, versatile, and efficient. Python has many libraries and frameworks that can save time and effort during development.\n",
        "\n",
        "2. What is an interpreter in Python?\n",
        "  - An interpreter in Python is a program that directly executes Python code line by line, translating it into machine code without requiring prior compilation.\n",
        "\n",
        "3. What are pre-defined keywords in Python?\n",
        "  - Pre-defined keywords are reserved words in Python that have a specific meaning and cannot be used as variable names. Examples include if, else, for, while, def, and return.\n",
        "\n",
        "4. Can keywords be used as variable names?\n",
        "   - No, keywords cannot be used as variable names as they have predefined meanings in Python.\n",
        "\n",
        "5. What is mutability in Python?\n",
        "  - Mutability refers to the ability of an object to be modified after it is created. Mutable objects, like lists and dictionaries, can be changed, while immutable objects, like strings and tuples, cannot.\n",
        "\n",
        "6. Why are lists mutable, but tuples are immutable?\n",
        "  - Lists are mutable to allow flexibility in data storage and manipulation, while tuples are immutable to provide a constant, unchangeable collection of items, which ensures stability and performance in certain scenarios.\n",
        "\n",
        "7. What is the difference between == and is operators in Python?\n",
        "\n",
        "  - == checks for value equality (whether the values of two objects are the same).\n",
        "\n",
        "  - is checks for identity equality (whether two objects refer to the same memory location).\n",
        "\n",
        "8. What are logical operators in Python?\n",
        "  - Logical operators are used to combine conditional statements:\n",
        "\n",
        "     and: Returns True if both conditions are true.\n",
        "\n",
        "     or: Returns True if at least one condition is true.\n",
        "\n",
        "     not: Reverses the result of a condition.\n",
        "\n",
        "9. What is type casting in Python?\n",
        "  - Type casting is converting one data type to another. For example, converting a string to an integer using int() or a list to a tuple using tuple().\n",
        "\n",
        "10. What is the difference between implicit and explicit type casting?\n",
        "\n",
        "  - Implicit casting: Performed automatically by Python (e.g., int to float).\n",
        "\n",
        "  - Explicit casting: Performed manually using functions like int(), str(), or float().\n",
        "\n",
        "11. What is the purpose of conditional statements in Python?\n",
        "   - Conditional statements are used to execute code based on specific conditions. Examples include if, elif, and else.\n",
        "\n",
        "12. How does the elif statement work?\n",
        "   - The elif statement is used to check multiple conditions after an if statement. If the initial if condition is false, Python evaluates the elif conditions in sequence.\n",
        "\n",
        "\n",
        "13. What is the difference between for and while loops?\n",
        "\n",
        "   - for: Used for iterating over a sequence (e.g., list, range).\n",
        "\n",
        "   - while: Executes as long as a specified condition is true.\n",
        "\n",
        "\n",
        "\n",
        "14. Describe a scenario where a while loop is more suitable than a for loop.\n",
        "   - A while loop is better when the number of iterations is not known beforehand, such as waiting for user input or monitoring a condition.   \n"
      ],
      "metadata": {
        "id": "bfGQZtSZKEI2"
      }
    },
    {
      "cell_type": "code",
      "source": [
        "# 1. Write a Python program to print \"Hello, World!\"\n",
        "\n",
        "print(\"Hello World\")"
      ],
      "metadata": {
        "colab": {
          "base_uri": "https://localhost:8080/"
        },
        "id": "K1zAhctKKCRh",
        "outputId": "ef401dc2-fb8e-4a86-ffea-a833a235eff9"
      },
      "execution_count": null,
      "outputs": [
        {
          "output_type": "stream",
          "name": "stdout",
          "text": [
            "Hello World\n"
          ]
        }
      ]
    },
    {
      "cell_type": "code",
      "execution_count": null,
      "metadata": {
        "colab": {
          "base_uri": "https://localhost:8080/"
        },
        "id": "74fIQ-nvJH55",
        "outputId": "f10e9999-a804-40fa-80ab-6337e78a98de"
      },
      "outputs": [
        {
          "output_type": "stream",
          "name": "stdout",
          "text": [
            "Name:Sourav kumar\n",
            "Age:25\n",
            "My name is Sourav kumar and I am 25 years old.\n"
          ]
        }
      ],
      "source": [
        "# 2. Write a Python program that displays your name and age.\n",
        "\n",
        "name = input(\"Name:\")\n",
        "age = input(\"Age:\")\n",
        "print(f\"My name is {name} and I am {age} years old.\")"
      ]
    },
    {
      "cell_type": "code",
      "source": [
        "# 3. Write code to print all the pre-defined keywords in Python using the keyword library.\n",
        "\n",
        "import keyword\n",
        "print(keyword.kwlist)"
      ],
      "metadata": {
        "colab": {
          "base_uri": "https://localhost:8080/"
        },
        "id": "Y2yiqheguX-r",
        "outputId": "6ff96426-1879-4df1-cff8-2d5363aa361d"
      },
      "execution_count": null,
      "outputs": [
        {
          "output_type": "stream",
          "name": "stdout",
          "text": [
            "['False', 'None', 'True', 'and', 'as', 'assert', 'async', 'await', 'break', 'class', 'continue', 'def', 'del', 'elif', 'else', 'except', 'finally', 'for', 'from', 'global', 'if', 'import', 'in', 'is', 'lambda', 'nonlocal', 'not', 'or', 'pass', 'raise', 'return', 'try', 'while', 'with', 'yield']\n"
          ]
        }
      ]
    },
    {
      "cell_type": "code",
      "source": [
        "# 4. Write a program that checks if a given word is a Python keyword.\n",
        "\n",
        "import keyword\n",
        "word = input(\"Enter a word: \")\n",
        "if keyword.iskeyword(word):\n",
        "    print(f\"{word} is a Python keyword.\")\n",
        "else:\n",
        "    print(f\"{word} is not a Python keyword.\")"
      ],
      "metadata": {
        "colab": {
          "base_uri": "https://localhost:8080/"
        },
        "id": "dJaSqM8-vx35",
        "outputId": "a118b31a-f706-483b-ef06-03809156d476"
      },
      "execution_count": null,
      "outputs": [
        {
          "output_type": "stream",
          "name": "stdout",
          "text": [
            "Enter a word: else\n",
            "else is a Python keyword.\n"
          ]
        }
      ]
    },
    {
      "cell_type": "code",
      "source": [
        "# 5. Create a list and tuple in Python, and demonstrate how attempting to change an element works differently for each.\n",
        "\n",
        "my_list = [1, 2, 3]\n",
        "my_tuple = (1, 2, 3)\n",
        "\n",
        "# Modifying list\n",
        "my_list[0] = 10\n",
        "print(\"Modified list:\", my_list)\n",
        "\n",
        "# Attempting to modify tuple\n",
        "try:\n",
        "    my_tuple[0] = 10\n",
        "except TypeError as e:\n",
        "    print(\"Error:\", e)"
      ],
      "metadata": {
        "colab": {
          "base_uri": "https://localhost:8080/"
        },
        "id": "mMqDLkbxwh_J",
        "outputId": "2fa3494a-d7d2-4570-e673-f3919fec5ba8"
      },
      "execution_count": null,
      "outputs": [
        {
          "output_type": "stream",
          "name": "stdout",
          "text": [
            "Modified list: [10, 2, 3]\n",
            "Error: 'tuple' object does not support item assignment\n"
          ]
        }
      ]
    },
    {
      "cell_type": "code",
      "source": [
        "# 6. Write a function to demonstrate the behavior of mutable and immutable arguments.\n",
        "\n",
        "def modify_data(data):\n",
        "    if isinstance(data, list):  # Mutable\n",
        "        data.append(4)\n",
        "    else:  # Immutable\n",
        "        data = data + (4,)\n",
        "    print(\"Inside function:\", data)\n",
        "\n",
        "# Test with list\n",
        "mutable_list = [1, 2, 3]\n",
        "modify_data(mutable_list)\n",
        "print(\"Outside function:\", mutable_list)\n",
        "\n",
        "# Test with tuple\n",
        "immutable_tuple = (1, 2, 3)\n",
        "modify_data(immutable_tuple)\n",
        "print(\"Outside function:\", immutable_tuple)"
      ],
      "metadata": {
        "colab": {
          "base_uri": "https://localhost:8080/"
        },
        "id": "wmMlWObtyN1A",
        "outputId": "08c3b15e-42ff-4fef-b738-76a3be217e4d"
      },
      "execution_count": null,
      "outputs": [
        {
          "output_type": "stream",
          "name": "stdout",
          "text": [
            "Inside function: [1, 2, 3, 4]\n",
            "Outside function: [1, 2, 3, 4]\n",
            "Inside function: (1, 2, 3, 4)\n",
            "Outside function: (1, 2, 3)\n"
          ]
        }
      ]
    },
    {
      "cell_type": "code",
      "source": [
        "# 7. Write a function to demonstrate the behavior of mutable and immutable arguments.\n",
        "\n",
        "def modify_argument(arg):\n",
        "    if isinstance(arg, list):  # Mutable argument\n",
        "        arg.append(100)\n",
        "        print(\"Inside function (list):\", arg)\n",
        "    elif isinstance(arg, int):  # Immutable argument\n",
        "        arg += 100\n",
        "        print(\"Inside function (int):\", arg)\n",
        "\n",
        "# Test with a mutable list\n",
        "mutable_list = [1, 2, 3]\n",
        "modify_argument(mutable_list)\n",
        "print(\"Outside function (list):\", mutable_list)\n",
        "\n",
        "# Test with an immutable integer\n",
        "immutable_int = 10\n",
        "modify_argument(immutable_int)\n",
        "print(\"Outside function (int):\", immutable_int)"
      ],
      "metadata": {
        "colab": {
          "base_uri": "https://localhost:8080/"
        },
        "id": "CTyDYR7Myn5g",
        "outputId": "54849c07-73f6-4931-8c13-529f627b1368"
      },
      "execution_count": null,
      "outputs": [
        {
          "output_type": "stream",
          "name": "stdout",
          "text": [
            "Inside function (list): [1, 2, 3, 100]\n",
            "Outside function (list): [1, 2, 3, 100]\n",
            "Inside function (int): 110\n",
            "Outside function (int): 10\n"
          ]
        }
      ]
    },
    {
      "cell_type": "code",
      "source": [
        "# 8. Write a program to demonstrate the use of logical operators.\n",
        "\n",
        "a = 10\n",
        "b = 20\n",
        "c = 30\n",
        "\n",
        "# Using logical operators\n",
        "print(a < b and b < c)  # True\n",
        "print(a > b or b < c)   # True\n",
        "print(not (a > c))      # True"
      ],
      "metadata": {
        "colab": {
          "base_uri": "https://localhost:8080/"
        },
        "id": "zXftUdsEy8Uy",
        "outputId": "f666754d-30bd-4456-d2fa-4a944bf1b56c"
      },
      "execution_count": null,
      "outputs": [
        {
          "output_type": "stream",
          "name": "stdout",
          "text": [
            "True\n",
            "True\n",
            "True\n"
          ]
        }
      ]
    },
    {
      "cell_type": "code",
      "source": [
        "# 9. Write a Python program to convert user input from string to integer, float, and boolean types.\n",
        "\n",
        "user_input = input(\"Enter a value: \")\n",
        "\n",
        "# Convert to integer\n",
        "try:\n",
        "    int_value = int(user_input)\n",
        "    print(\"Integer:\", int_value)\n",
        "except ValueError:\n",
        "    print(\"Cannot convert to integer\")\n",
        "\n",
        "# Convert to float\n",
        "try:\n",
        "    float_value = float(user_input)\n",
        "    print(\"Float:\", float_value)\n",
        "except ValueError:\n",
        "    print(\"Cannot convert to float\")\n",
        "\n",
        "# Convert to boolean\n",
        "bool_value = bool(user_input)\n",
        "print(\"Boolean:\", bool_value)"
      ],
      "metadata": {
        "colab": {
          "base_uri": "https://localhost:8080/"
        },
        "id": "JG1erbCpzZk0",
        "outputId": "4b01c853-9daa-49c9-f224-0bd961a0fbbc"
      },
      "execution_count": null,
      "outputs": [
        {
          "output_type": "stream",
          "name": "stdout",
          "text": [
            "Enter a value: 5\n",
            "Integer: 5\n",
            "Float: 5.0\n",
            "Boolean: True\n"
          ]
        }
      ]
    },
    {
      "cell_type": "code",
      "source": [
        "# 10. Write code to demonstrate type casting with list elements.\n",
        "\n",
        "my_list = [\"1\", \"2.5\", \"True\"]\n",
        "\n",
        "# Convert elements to specific types\n",
        "int_element = int(my_list[0])\n",
        "float_element = float(my_list[1])\n",
        "bool_element = bool(my_list[2])\n",
        "\n",
        "print(\"Integer:\", int_element)\n",
        "print(\"Float:\", float_element)\n",
        "print(\"Boolean:\", bool_element)"
      ],
      "metadata": {
        "colab": {
          "base_uri": "https://localhost:8080/"
        },
        "id": "I_T1NCukzyjU",
        "outputId": "e1e58920-92c7-49e2-d602-03092a16ff71"
      },
      "execution_count": null,
      "outputs": [
        {
          "output_type": "stream",
          "name": "stdout",
          "text": [
            "Integer: 1\n",
            "Float: 2.5\n",
            "Boolean: True\n"
          ]
        }
      ]
    },
    {
      "cell_type": "code",
      "source": [
        "# 11. Write a program that checks if a number is positive, negative, or zero.\n",
        "\n",
        "num = float(input(\"Enter a number: \"))\n",
        "\n",
        "if num > 0:\n",
        "    print(\"The number is positive.\")\n",
        "elif num < 0:\n",
        "    print(\"The number is negative.\")\n",
        "else:\n",
        "    print(\"The number is zero.\")"
      ],
      "metadata": {
        "colab": {
          "base_uri": "https://localhost:8080/"
        },
        "id": "6w6FUCQC0F0A",
        "outputId": "1c3d179a-7367-4d7b-a72e-a4d7bf69a53d"
      },
      "execution_count": null,
      "outputs": [
        {
          "output_type": "stream",
          "name": "stdout",
          "text": [
            "Enter a number: 22\n",
            "The number is positive.\n"
          ]
        }
      ]
    },
    {
      "cell_type": "code",
      "source": [
        "# 12. Write a for loop to print numbers from 1 to 10.\n",
        "\n",
        "for i in range(1, 11):\n",
        "    print(i)"
      ],
      "metadata": {
        "colab": {
          "base_uri": "https://localhost:8080/"
        },
        "id": "gdFYr9zG0qij",
        "outputId": "60b3c75a-f8d0-4885-a301-45881565a397"
      },
      "execution_count": null,
      "outputs": [
        {
          "output_type": "stream",
          "name": "stdout",
          "text": [
            "1\n",
            "2\n",
            "3\n",
            "4\n",
            "5\n",
            "6\n",
            "7\n",
            "8\n",
            "9\n",
            "10\n"
          ]
        }
      ]
    },
    {
      "cell_type": "code",
      "source": [
        "# 13. Write a Python program to find the sum of all even numbers between 1 and 50.\n",
        "\n",
        "total = 0\n",
        "for i in range(1, 51):\n",
        "    if i % 2 == 0:\n",
        "        total += i\n",
        "print(\"Sum of even numbers between 1 and 50:\", total)"
      ],
      "metadata": {
        "colab": {
          "base_uri": "https://localhost:8080/"
        },
        "id": "vCkFN_nL05uI",
        "outputId": "5cde6f64-20cf-4244-aecc-90dd31346d10"
      },
      "execution_count": null,
      "outputs": [
        {
          "output_type": "stream",
          "name": "stdout",
          "text": [
            "Sum of even numbers between 1 and 50: 650\n"
          ]
        }
      ]
    },
    {
      "cell_type": "code",
      "source": [
        "# 14. Write a program to reverse a string using a while loop.\n",
        "\n",
        "string = input(\"Enter a string: \")\n",
        "reversed_string = \"\"\n",
        "index = len(string) - 1\n",
        "\n",
        "while index >= 0:\n",
        "    reversed_string += string[index]\n",
        "    index -= 1\n",
        "\n",
        "print(\"Reversed string:\", reversed_string)"
      ],
      "metadata": {
        "colab": {
          "base_uri": "https://localhost:8080/"
        },
        "id": "OhxT32381SjB",
        "outputId": "0ddd1a28-8730-4412-e126-1dd3e4d1f573"
      },
      "execution_count": null,
      "outputs": [
        {
          "output_type": "stream",
          "name": "stdout",
          "text": [
            "Enter a string: RAM\n",
            "Reversed string: MAR\n"
          ]
        }
      ]
    },
    {
      "cell_type": "code",
      "source": [
        "# 15. Write a Python program to calculate the factorial of a number provided by the user using a while loop.\n",
        "\n",
        "num = int(input(\"Enter a number: \"))\n",
        "factorial = 1\n",
        "current = 1\n",
        "\n",
        "while current <= num:\n",
        "    factorial *= current\n",
        "    current += 1\n",
        "\n",
        "print(f\"The factorial of {num} is {factorial}.\")"
      ],
      "metadata": {
        "id": "CfW2AzxA1rkp",
        "colab": {
          "base_uri": "https://localhost:8080/"
        },
        "outputId": "07a7b81e-2c9a-42bd-d889-f4959312631e"
      },
      "execution_count": 32,
      "outputs": [
        {
          "output_type": "stream",
          "name": "stdout",
          "text": [
            "Enter a number: 5\n",
            "The factorial of 5 is 120.\n"
          ]
        }
      ]
    }
  ]
}